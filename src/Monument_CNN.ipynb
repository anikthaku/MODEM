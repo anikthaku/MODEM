{
 "cells": [
  {
   "cell_type": "code",
   "execution_count": 1,
   "id": "3739e95c",
   "metadata": {},
   "outputs": [],
   "source": [
    "import numpy as np\n",
    "import cv2\n",
    "\n",
    "import PIL.Image as Image\n",
    "import os\n",
    "import pathlib\n",
    "import pandas\n",
    "import csv\n",
    "import keras\n",
    "\n",
    "import matplotlib.pylab as plt\n",
    "\n",
    "import tensorflow as tf\n",
    "import tensorflow_hub as hub\n",
    "\n",
    "from tensorflow import keras\n",
    "from tensorflow.keras import datasets, layers, models\n",
    "from sklearn.model_selection import train_test_split"
   ]
  },
  {
   "cell_type": "code",
   "execution_count": 2,
   "id": "41c2407b",
   "metadata": {},
   "outputs": [
    {
     "ename": "FileNotFoundError",
     "evalue": "[WinError 3] The system cannot find the path specified: '.. \\\\docs\\\\img\\\\Taj Mahal'",
     "output_type": "error",
     "traceback": [
      "\u001b[1;31m---------------------------------------------------------------------------\u001b[0m",
      "\u001b[1;31mFileNotFoundError\u001b[0m                         Traceback (most recent call last)",
      "\u001b[1;32m~\\AppData\\Local\\Temp/ipykernel_5156/1868209060.py\u001b[0m in \u001b[0;36m<module>\u001b[1;34m\u001b[0m\n\u001b[0;32m      7\u001b[0m     \u001b[0mlabel\u001b[0m \u001b[1;33m=\u001b[0m \u001b[0mrow\u001b[0m\u001b[1;33m[\u001b[0m\u001b[1;36m1\u001b[0m\u001b[1;33m]\u001b[0m\u001b[1;33m[\u001b[0m\u001b[1;34m\"Label\"\u001b[0m\u001b[1;33m]\u001b[0m\u001b[1;33m\u001b[0m\u001b[1;33m\u001b[0m\u001b[0m\n\u001b[0;32m      8\u001b[0m     \u001b[0mfile_path\u001b[0m \u001b[1;33m=\u001b[0m \u001b[0mos\u001b[0m\u001b[1;33m.\u001b[0m\u001b[0mpath\u001b[0m\u001b[1;33m.\u001b[0m\u001b[0mjoin\u001b[0m\u001b[1;33m(\u001b[0m\u001b[0mimg_folder\u001b[0m\u001b[1;33m,\u001b[0m \u001b[0mname\u001b[0m\u001b[1;33m)\u001b[0m\u001b[1;33m\u001b[0m\u001b[1;33m\u001b[0m\u001b[0m\n\u001b[1;32m----> 9\u001b[1;33m     \u001b[1;32mfor\u001b[0m \u001b[0mfile\u001b[0m \u001b[1;32min\u001b[0m \u001b[0mos\u001b[0m\u001b[1;33m.\u001b[0m\u001b[0mlistdir\u001b[0m\u001b[1;33m(\u001b[0m\u001b[0mfile_path\u001b[0m\u001b[1;33m)\u001b[0m\u001b[1;33m:\u001b[0m\u001b[1;33m\u001b[0m\u001b[1;33m\u001b[0m\u001b[0m\n\u001b[0m\u001b[0;32m     10\u001b[0m         \u001b[1;31m# open image and save in the object\u001b[0m\u001b[1;33m\u001b[0m\u001b[1;33m\u001b[0m\u001b[0m\n\u001b[0;32m     11\u001b[0m         \u001b[0mStr\u001b[0m \u001b[1;33m=\u001b[0m \u001b[0mfile_path\u001b[0m \u001b[1;33m+\u001b[0m \u001b[0mstr\u001b[0m\u001b[1;33m(\u001b[0m\u001b[1;34m\"\\\\\"\u001b[0m\u001b[1;33m)\u001b[0m \u001b[1;33m+\u001b[0m \u001b[0mfile\u001b[0m\u001b[1;33m\u001b[0m\u001b[1;33m\u001b[0m\u001b[0m\n",
      "\u001b[1;31mFileNotFoundError\u001b[0m: [WinError 3] The system cannot find the path specified: '.. \\\\docs\\\\img\\\\Taj Mahal'"
     ]
    }
   ],
   "source": [
    "img_folder = r\"\\data\"\n",
    "\n",
    "df = pandas.read_csv(\"CoordinateList.csv\")\n",
    "tups = []\n",
    "for row in df[[\"NAME\", \"Label\"]].iterrows():\n",
    "    name = row[1][\"NAME\"]\n",
    "    label = row[1][\"Label\"]\n",
    "    file_path = os.path.join(img_folder, name)\n",
    "    for file in os.listdir(file_path):\n",
    "        # open image and save in the object\n",
    "        Str = file_path + str(\"\\\\\") + file\n",
    "        img_object = cv2.imread(Str)\n",
    "        img_object_64 = cv2.resize(img_object, (128, 128))\n",
    "        img_object = np.array(img_object_64)/255\n",
    "        tups.append((file, img_object_64, img_object, label))\n",
    "#         print(img_object.shape)\n",
    "\n",
    "tups[0]\n",
    "# for monument in df[[\"NAME\", \"Label\"]]:\n",
    "#     x = os.listdir(os.path.join(img_folder, monument))\n",
    "#     print(monument)"
   ]
  },
  {
   "cell_type": "code",
   "execution_count": null,
   "id": "f645fdce",
   "metadata": {},
   "outputs": [],
   "source": [
    "X = []\n",
    "Y = []\n",
    "names = []\n",
    "for name, img, x_, y_ in tups:\n",
    "    X.append((name, img, x_))\n",
    "    Y.append(float(y_))\n",
    "X_train_orig, X_test_orig, Y_train, Y_test = train_test_split(X, Y, random_state=0, train_size=0.9)\n",
    "X_train_names = [_[0] for _ in X_train_orig]\n",
    "X_train_images = [_[1] for _ in X_train_orig]\n",
    "X_train = np.array([_[2] for _ in X_train_orig])\n",
    "X_test_names = [_[0] for _ in X_test_orig]\n",
    "X_test_images = [_[1] for _ in X_test_orig]\n",
    "X_test = np.array([_[2] for _ in X_test_orig])\n",
    "Y_train = np.array(Y_train)\n",
    "Y_test = np.array(Y_test)\n",
    "print(X_train.shape)\n",
    "print(Y_train.shape)\n",
    "#X_train = np.array(X_train_orig[1])\n",
    "#X_test = np.array(X_test_orig[1])\n",
    "#X_train\n",
    "#X = np.array(X)\n",
    "#Y = np.array(Y)\n",
    "\n",
    "#print(\"Train Size\", len(X_train))\n",
    "#print(\"Test Size\", len(X_test))\n",
    "#X_train.shape"
   ]
  },
  {
   "cell_type": "code",
   "execution_count": null,
   "id": "475fa898",
   "metadata": {},
   "outputs": [],
   "source": [
    "cnn = models.Sequential([\n",
    "    layers.Conv2D(filters=33, kernel_size=(3, 3), activation='relu', input_shape=X_train.shape[1:]),\n",
    "    layers.MaxPooling2D((2, 2)),\n",
    "    layers.Conv2D(filters=25, kernel_size=(3, 3), activation='relu'),\n",
    "    layers.MaxPooling2D((2, 2)),\n",
    "    layers.Conv2D(filters=17, kernel_size=(5, 5), activation='relu'),\n",
    "    layers.MaxPooling2D((2, 2)),\n",
    "    layers.Conv2D(filters=9, kernel_size=(5, 5), activation='relu'),\n",
    "    layers.Conv2D(filters=3, kernel_size=(5, 5), activation='relu'),\n",
    "    layers.Flatten(),\n",
    "    layers.Dense(15, activation='relu'), \n",
    "    layers.Dense(7, activation='relu'),\n",
    "    layers.Dense(3, activation='relu'),\n",
    "    layers.Dense(1, activation='sigmoid')\n",
    "])"
   ]
  },
  {
   "cell_type": "code",
   "execution_count": null,
   "id": "f359bbe6",
   "metadata": {},
   "outputs": [],
   "source": [
    "metrics = [\n",
    "    keras.metrics.TruePositives(name='tp'),\n",
    "    keras.metrics.FalsePositives(name='fp'),\n",
    "    keras.metrics.TrueNegatives(name='tn'),\n",
    "    keras.metrics.FalseNegatives(name='fn'), \n",
    "    keras.metrics.BinaryAccuracy(name='accuracy'),\n",
    "    keras.metrics.Precision(name='precision'),\n",
    "    keras.metrics.Recall(name='recall'),\n",
    "    keras.metrics.AUC(name='auc'),\n",
    "    keras.metrics.AUC(name='prc', curve='PR'), # precision-recall curve\n",
    "]\n",
    "cnn.compile(optimizer='adam',\n",
    "              loss='binary_crossentropy',\n",
    "              metrics=metrics)\n",
    "cnn.summary()"
   ]
  },
  {
   "cell_type": "code",
   "execution_count": null,
   "id": "8dc275a3",
   "metadata": {},
   "outputs": [],
   "source": [
    "%%javascript\n",
    "IPython.OutputArea.prototype._should_scroll = function(lines) {\n",
    "    return false;\n",
    "}"
   ]
  },
  {
   "cell_type": "code",
   "execution_count": null,
   "id": "893cb867",
   "metadata": {},
   "outputs": [],
   "source": [
    "cnn.fit(X_train, Y_train, epochs=100)"
   ]
  },
  {
   "cell_type": "code",
   "execution_count": null,
   "id": "fb530537",
   "metadata": {},
   "outputs": [],
   "source": [
    "cnn.evaluate(X_test, Y_test)"
   ]
  },
  {
   "cell_type": "code",
   "execution_count": null,
   "id": "53cc00cb",
   "metadata": {},
   "outputs": [],
   "source": [
    "def plot_sample(x, y, name):\n",
    "    plt.figure(figsize = (15,2))\n",
    "    plt.imshow(x)\n",
    "    plt.xlabel(\"Predict: \" + (\"\\\"Monument\\\" \" if y >= 0.5 else \"\\\"Random\\\" \") + \"Actual: \\\"\"+ str(name) +\"\\\"\")"
   ]
  },
  {
   "cell_type": "code",
   "execution_count": null,
   "id": "414f0503",
   "metadata": {},
   "outputs": [],
   "source": [
    "Y_pred = cnn(X_test)\n",
    "actuals = [1 if pred >= 0.5 else 0 for pred in Y_test]\n",
    "preds = [1 if pred >= 0.5 else 0 for pred in Y_pred]\n",
    "print(\"Total tests:\", len(preds))\n",
    "print(\"All positives:\", sum(preds))\n",
    "\n",
    "print(\"Correct Predictions: \")\n",
    "for name, img, pred, actual in zip(X_test_names, X_test_images, preds, actuals):\n",
    "    if pred == actual:\n",
    "        plot_sample(img, pred, name)"
   ]
  },
  {
   "cell_type": "code",
   "execution_count": null,
   "id": "c969276a",
   "metadata": {},
   "outputs": [],
   "source": [
    "print(\"Wrong Predictions: \")\n",
    "for name, img, pred, actual in zip(X_test_names, X_test_images, preds, actuals):\n",
    "    if pred != actual:\n",
    "        plot_sample(img, pred, name)"
   ]
  },
  {
   "cell_type": "code",
   "execution_count": null,
   "id": "c88a6c7e",
   "metadata": {},
   "outputs": [],
   "source": []
  }
 ],
 "metadata": {
  "kernelspec": {
   "display_name": "Python 3 (ipykernel)",
   "language": "python",
   "name": "python3"
  },
  "language_info": {
   "codemirror_mode": {
    "name": "ipython",
    "version": 3
   },
   "file_extension": ".py",
   "mimetype": "text/x-python",
   "name": "python",
   "nbconvert_exporter": "python",
   "pygments_lexer": "ipython3",
   "version": "3.9.12"
  }
 },
 "nbformat": 4,
 "nbformat_minor": 5
}
